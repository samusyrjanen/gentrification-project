{
 "cells": [
  {
   "cell_type": "code",
   "execution_count": 1,
   "metadata": {},
   "outputs": [],
   "source": [
    "import pandas as pd\n",
    "from random import randint\n",
    "\n",
    "# Data sources\n",
    "#\n",
    "#   - Inhabitants' median disposable monetary income by postal code area, 2010-2021\n",
    "#     https://pxdata.stat.fi:443/PxWeb/sq/39625562-d250-492a-a190-37bcc355e2a3\n",
    "#\n",
    "#   - Prices per square meter of old dwellings in housing companies and numbers\n",
    "#     of transactions by postal code area, yearly, 2009-2022\n",
    "#     https://pxdata.stat.fi:443/PxWeb/sq/41826b15-82a9-4c83-8be6-bd77f98b31ac\n",
    "#\n",
    "\n",
    "# Read in what we've got.\n",
    "incomes = pd.read_csv('data/003_12f1_2021_20230929-100110.csv', encoding = 'latin1', skiprows = [0, 1])\n",
    "prices = pd.read_csv('data/001_13mu_2022_20230929-105546.csv', encoding = 'latin1', skiprows = [0, 1])"
   ]
  },
  {
   "cell_type": "code",
   "execution_count": 2,
   "metadata": {},
   "outputs": [
    {
     "name": "stdout",
     "output_type": "stream",
     "text": [
      "Income/Price data shape: (84, 14)/(81, 17)\n",
      "\n",
      "              Postal code area                        Information   2010   2011   2012   2013   2014   2015   2016   2017   2018   2019   2020   2021\n",
      "57  00730  Tapanila (Helsinki)  Median income of inhabitants (HR)  23211  23622  24321  24649  24731  24966  25246  25673  26319  27123  27223  28064\n",
      "                  Postal code                   Building type                      Information  2009  2010  2011  2012  2013  2014  2015  2016  2017  2018  2019  2020  2021  2022\n",
      "46  00630  Maunula (Helsinki)  Blocks of flats, two-room flat  Price per square meter (EUR/m2)  2352  2545  2670  3054  3182  3271  3346  3451  3608  3825  3823  4056  4038  4144\n"
     ]
    }
   ],
   "source": [
    "# A few peeks in to the data we just read.\n",
    "\n",
    "print(f'Income/Price data shape: {incomes.shape}/{prices.shape}\\n')\n",
    "\n",
    "print(incomes.iloc[[randint(0, incomes.shape[0])]].to_string())\n",
    "print(prices.iloc[[randint(0, prices.shape[0])]].to_string())"
   ]
  },
  {
   "cell_type": "code",
   "execution_count": 3,
   "metadata": {},
   "outputs": [],
   "source": [
    "# Drop unwanted columns for ease of use later on.\n",
    "incomes.drop('Information', axis = 1, inplace = True)\n",
    "prices.drop([ 'Building type', 'Information' ], axis = 1, inplace = True)\n",
    "\n",
    "# Since we do not have income data for years 2009 and 2022, we don't need pricing data for those either.\n",
    "prices.drop([ '2009', '2022' ], axis = 1, inplace = True)\n",
    "\n",
    "# Ensure column names aren't fluctuating wildly like a warp drive engine.\n",
    "incomes.rename(columns = { 'Postal code area': 'Postal code' }, inplace = True)"
   ]
  },
  {
   "cell_type": "code",
   "execution_count": 4,
   "metadata": {},
   "outputs": [
    {
     "name": "stdout",
     "output_type": "stream",
     "text": [
      "Income/Price data shape: (84, 13)/(81, 13)\n",
      "\n",
      "                    Postal code   2010   2011   2012   2013   2014   2015  \\\n",
      "51  00670  Paloheinä (Helsinki)  28460  29110  30303  30139  30416  31147   \n",
      "\n",
      "     2016   2017   2018   2019   2020   2021  \n",
      "51  31431  32090  33186  34225  34005  35431  \n",
      "                    Postal code 2010 2011 2012 2013 2014 2015 2016 2017 2018  \\\n",
      "50  00670  Paloheinä (Helsinki)    .    .  ...  ...  ...    .  ...    .  ...   \n",
      "\n",
      "   2019 2020 2021  \n",
      "50  ...  ...    .  \n"
     ]
    }
   ],
   "source": [
    "# A few more peeks into the data, which should now appear more uniform than before.\n",
    "\n",
    "print(f'Income/Price data shape: {incomes.shape}/{prices.shape}\\n')\n",
    "\n",
    "code = incomes.iloc[[randint(0, min(incomes.shape[0], prices.shape[0]))]]['Postal code'].values[0]\n",
    "print(incomes.loc[incomes['Postal code'] == code])\n",
    "print(prices.loc[prices['Postal code'] == code])"
   ]
  }
 ],
 "metadata": {
  "kernelspec": {
   "display_name": "gentrification-project",
   "language": "python",
   "name": "python3"
  },
  "language_info": {
   "codemirror_mode": {
    "name": "ipython",
    "version": 3
   },
   "file_extension": ".py",
   "mimetype": "text/x-python",
   "name": "python",
   "nbconvert_exporter": "python",
   "pygments_lexer": "ipython3",
   "version": "3.11.5"
  },
  "orig_nbformat": 4
 },
 "nbformat": 4,
 "nbformat_minor": 2
}
